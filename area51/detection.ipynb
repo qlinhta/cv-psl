{
 "cells": [
  {
   "cell_type": "code",
   "id": "initial_id",
   "metadata": {
    "collapsed": true,
    "ExecuteTime": {
     "end_time": "2024-05-22T15:05:35.163926Z",
     "start_time": "2024-05-22T15:05:35.160366Z"
    }
   },
   "source": [
    "import torch, torchvision\n",
    "import numpy as np\n",
    "import os, json, cv2, random\n",
    "from PIL import Image\n",
    "from torchvision import datasets\n",
    "from torchvision import transforms"
   ],
   "outputs": [],
   "execution_count": 13
  },
  {
   "metadata": {
    "ExecuteTime": {
     "end_time": "2024-05-22T15:05:35.168591Z",
     "start_time": "2024-05-22T15:05:35.166196Z"
    }
   },
   "cell_type": "code",
   "source": "",
   "id": "10b84e5105ab335e",
   "outputs": [],
   "execution_count": 13
  }
 ],
 "metadata": {
  "kernelspec": {
   "display_name": "Python 3",
   "language": "python",
   "name": "python3"
  },
  "language_info": {
   "codemirror_mode": {
    "name": "ipython",
    "version": 2
   },
   "file_extension": ".py",
   "mimetype": "text/x-python",
   "name": "python",
   "nbconvert_exporter": "python",
   "pygments_lexer": "ipython2",
   "version": "2.7.6"
  }
 },
 "nbformat": 4,
 "nbformat_minor": 5
}
