{
 "cells": [
  {
   "metadata": {
    "ExecuteTime": {
     "end_time": "2024-05-30T13:12:09.186092Z",
     "start_time": "2024-05-30T13:12:08.336622Z"
    }
   },
   "cell_type": "code",
   "source": [
    "import torch\n",
    "import timm\n",
    "\n",
    "model = timm.create_model('swin_tiny_patch4_window7_224.ms_in22k_ft_in1k', pretrained=True, features_only=True)\n",
    "dummy_input = torch.randn(1, 3, 224, 224)\n",
    "features = model(dummy_input)\n",
    "for i, feature in enumerate(features):\n",
    "    print(f\"Feature {i} shape: {feature.shape}\")"
   ],
   "id": "e0d7426ca3453fc8",
   "outputs": [
    {
     "name": "stdout",
     "output_type": "stream",
     "text": [
      "Feature 0 shape: torch.Size([1, 56, 56, 96])\n",
      "Feature 1 shape: torch.Size([1, 28, 28, 192])\n",
      "Feature 2 shape: torch.Size([1, 14, 14, 384])\n",
      "Feature 3 shape: torch.Size([1, 7, 7, 768])\n"
     ]
    }
   ],
   "execution_count": 3
  },
  {
   "metadata": {},
   "cell_type": "code",
   "outputs": [],
   "execution_count": null,
   "source": "",
   "id": "1781f8e31f9a7e96"
  }
 ],
 "metadata": {
  "kernelspec": {
   "display_name": "Python 3",
   "language": "python",
   "name": "python3"
  },
  "language_info": {
   "codemirror_mode": {
    "name": "ipython",
    "version": 2
   },
   "file_extension": ".py",
   "mimetype": "text/x-python",
   "name": "python",
   "nbconvert_exporter": "python",
   "pygments_lexer": "ipython2",
   "version": "2.7.6"
  }
 },
 "nbformat": 4,
 "nbformat_minor": 5
}
